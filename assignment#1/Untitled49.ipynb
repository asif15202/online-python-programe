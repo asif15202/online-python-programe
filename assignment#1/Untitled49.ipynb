{
 "cells": [
  {
   "cell_type": "code",
   "execution_count": 2,
   "id": "75137b1e",
   "metadata": {},
   "outputs": [
    {
     "name": "stdout",
     "output_type": "stream",
     "text": [
      "enter marks of english15\n",
      "enter marks of urdu16\n",
      "enter marks of maths44\n",
      "enter marks of islamyat48\n",
      "you deserved:percent\n"
     ]
    }
   ],
   "source": [
    "english = int(input(\"enter marks of english\"));\n",
    "urdu = int(input(\"enter marks of urdu\"));\n",
    "maths = int(input(\"enter marks of maths\"));\n",
    "islamyat = int(input(\"enter marks of islamyat\"));\n",
    "total = 300;\n",
    "percent = (english+urdu+maths+islamyat)/100*100\n",
    "print(\"you deserved:percent\")"
   ]
  },
  {
   "cell_type": "code",
   "execution_count": null,
   "id": "2b840117",
   "metadata": {},
   "outputs": [],
   "source": []
  }
 ],
 "metadata": {
  "kernelspec": {
   "display_name": "Python 3",
   "language": "python",
   "name": "python3"
  },
  "language_info": {
   "codemirror_mode": {
    "name": "ipython",
    "version": 3
   },
   "file_extension": ".py",
   "mimetype": "text/x-python",
   "name": "python",
   "nbconvert_exporter": "python",
   "pygments_lexer": "ipython3",
   "version": "3.8.8"
  }
 },
 "nbformat": 4,
 "nbformat_minor": 5
}
