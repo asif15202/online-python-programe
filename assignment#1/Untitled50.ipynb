{
 "cells": [
  {
   "cell_type": "code",
   "execution_count": 3,
   "id": "ad885326",
   "metadata": {},
   "outputs": [
    {
     "ename": "SyntaxError",
     "evalue": "invalid syntax (<ipython-input-3-dfd339fa78df>, line 9)",
     "output_type": "error",
     "traceback": [
      "\u001b[1;36m  File \u001b[1;32m\"<ipython-input-3-dfd339fa78df>\"\u001b[1;36m, line \u001b[1;32m9\u001b[0m\n\u001b[1;33m    elif percent < 80 and percent >= 70:\u001b[0m\n\u001b[1;37m    ^\u001b[0m\n\u001b[1;31mSyntaxError\u001b[0m\u001b[1;31m:\u001b[0m invalid syntax\n"
     ]
    }
   ],
   "source": [
    "english = int(input(\"enter marks of english\"));\n",
    "urdu = int(input(\"enter marks of urdu\"));\n",
    "maths = int(input(\"enter marks of maths\"));\n",
    "islamyat = int(input(\"enter marks of islamyat\"));\n",
    "total = 300;\n",
    "percent = (english+urdu+maths+islamyat)/100*100\n",
    "if percent < 100 and percent >= 80:\n",
    "    print(\"A+\");\n",
    "    elif percent < 90 and percent >= 0:\n",
    "        print(\"A\");\n",
    "         elif percent < 70 and percent >= 60:\n",
    "        print(\"B\");\n",
    "         elif percent < 60 and percent >= 50:\n",
    "        print(\"C\");\n",
    "         elif percent < 50 and percent >= 40:\n",
    "        print(\"D\");\n",
    "         elif percent < 40 and percent >= 33:\n",
    "        print(\"E\");\n",
    "        \n",
    "         elif percent < 0 and percent > 100:\n",
    "        print(\"you did not enter correct input\");\n",
    "        else:\n",
    "            print(\"fail\");\n",
    "        \n",
    "        \n",
    "        \n",
    "        "
   ]
  },
  {
   "cell_type": "code",
   "execution_count": null,
   "id": "c14e49d5",
   "metadata": {},
   "outputs": [],
   "source": []
  }
 ],
 "metadata": {
  "kernelspec": {
   "display_name": "Python 3",
   "language": "python",
   "name": "python3"
  },
  "language_info": {
   "codemirror_mode": {
    "name": "ipython",
    "version": 3
   },
   "file_extension": ".py",
   "mimetype": "text/x-python",
   "name": "python",
   "nbconvert_exporter": "python",
   "pygments_lexer": "ipython3",
   "version": "3.8.8"
  }
 },
 "nbformat": 4,
 "nbformat_minor": 5
}
