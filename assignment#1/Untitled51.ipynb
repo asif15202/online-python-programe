{
 "cells": [
  {
   "cell_type": "code",
   "execution_count": 1,
   "id": "0f618f92",
   "metadata": {},
   "outputs": [
    {
     "name": "stdout",
     "output_type": "stream",
     "text": [
      "['asif', 'ahmad', 'ali', 'zuhaib', 'nadir']\n"
     ]
    }
   ],
   "source": [
    "#list\n",
    "name = [\"asif\",\"ahmad\",\"ali\",\"zuhaib\",\"nadir\"];\n",
    "print(name)"
   ]
  },
  {
   "cell_type": "code",
   "execution_count": 2,
   "id": "3b838b45",
   "metadata": {},
   "outputs": [
    {
     "name": "stdout",
     "output_type": "stream",
     "text": [
      "zuhaib\n"
     ]
    }
   ],
   "source": [
    "print(name[3])"
   ]
  },
  {
   "cell_type": "code",
   "execution_count": 3,
   "id": "d710f631",
   "metadata": {},
   "outputs": [
    {
     "name": "stdout",
     "output_type": "stream",
     "text": [
      "['asif', 'ahmad', 'zuhaib', 'nadir']\n"
     ]
    }
   ],
   "source": [
    "del name[2]\n",
    "print(name)"
   ]
  },
  {
   "cell_type": "code",
   "execution_count": 6,
   "id": "60333da9",
   "metadata": {},
   "outputs": [
    {
     "name": "stdout",
     "output_type": "stream",
     "text": [
      "['ahmad', 'zuhaib', 'nadir']\n"
     ]
    }
   ],
   "source": [
    "name.remove(\"asif\");\n",
    "print(name)"
   ]
  },
  {
   "cell_type": "code",
   "execution_count": 7,
   "id": "7ba73de6",
   "metadata": {},
   "outputs": [
    {
     "name": "stdout",
     "output_type": "stream",
     "text": [
      "['dog', True, 2, 3.3, 'asif']\n"
     ]
    }
   ],
   "source": [
    "arr = [\"dog\",True,2,3.3,\"asif\"];\n",
    "print(arr)"
   ]
  },
  {
   "cell_type": "code",
   "execution_count": 8,
   "id": "5ee01d77",
   "metadata": {},
   "outputs": [
    {
     "name": "stdout",
     "output_type": "stream",
     "text": [
      "['dog', True, 2, 3.3, 'asif', 'ahmad', 'zuhaib', 'nadir']\n"
     ]
    }
   ],
   "source": [
    "newList = arr + name;\n",
    "print(newList)"
   ]
  },
  {
   "cell_type": "code",
   "execution_count": 9,
   "id": "935e2af0",
   "metadata": {},
   "outputs": [
    {
     "data": {
      "text/plain": [
       "['dog', True, 2, 3.3, 'asif']"
      ]
     },
     "execution_count": 9,
     "metadata": {},
     "output_type": "execute_result"
    }
   ],
   "source": [
    "arr"
   ]
  },
  {
   "cell_type": "code",
   "execution_count": 10,
   "id": "e82c9d2e",
   "metadata": {},
   "outputs": [
    {
     "name": "stdout",
     "output_type": "stream",
     "text": [
      "[True, 2]\n"
     ]
    }
   ],
   "source": [
    "arr1 = arr[1:3]\n",
    "print(arr1)"
   ]
  },
  {
   "cell_type": "code",
   "execution_count": 11,
   "id": "f1ee0ef5",
   "metadata": {},
   "outputs": [
    {
     "data": {
      "text/plain": [
       "['dog', True, 2, 3.3, 'asif']"
      ]
     },
     "execution_count": 11,
     "metadata": {},
     "output_type": "execute_result"
    }
   ],
   "source": [
    "arr"
   ]
  },
  {
   "cell_type": "code",
   "execution_count": 12,
   "id": "84ce8818",
   "metadata": {},
   "outputs": [
    {
     "name": "stdout",
     "output_type": "stream",
     "text": [
      "['dog', True, 2, 3.3, 'asif', 'ali']\n"
     ]
    }
   ],
   "source": [
    "arr.append(\"ali\");\n",
    "print(arr)"
   ]
  },
  {
   "cell_type": "code",
   "execution_count": 13,
   "id": "ffdf385b",
   "metadata": {},
   "outputs": [
    {
     "name": "stdout",
     "output_type": "stream",
     "text": [
      "['dog', True, 2, 3.3, 'asif']\n"
     ]
    }
   ],
   "source": [
    "arr.pop()\n",
    "print(arr)"
   ]
  },
  {
   "cell_type": "code",
   "execution_count": 14,
   "id": "ccb0426d",
   "metadata": {},
   "outputs": [
    {
     "name": "stdout",
     "output_type": "stream",
     "text": [
      "['dog', 'asif', 2, 3.3, 'asif']\n"
     ]
    }
   ],
   "source": [
    "arr[1] =\"asif\";\n",
    "print(arr)"
   ]
  },
  {
   "cell_type": "code",
   "execution_count": 15,
   "id": "9ed48f34",
   "metadata": {},
   "outputs": [
    {
     "name": "stdout",
     "output_type": "stream",
     "text": [
      "None\n"
     ]
    }
   ],
   "source": [
    "arr = arr.insert(2,\"ahad\");\n",
    "print(arr)"
   ]
  },
  {
   "cell_type": "code",
   "execution_count": null,
   "id": "7c0a5340",
   "metadata": {},
   "outputs": [],
   "source": []
  }
 ],
 "metadata": {
  "kernelspec": {
   "display_name": "Python 3",
   "language": "python",
   "name": "python3"
  },
  "language_info": {
   "codemirror_mode": {
    "name": "ipython",
    "version": 3
   },
   "file_extension": ".py",
   "mimetype": "text/x-python",
   "name": "python",
   "nbconvert_exporter": "python",
   "pygments_lexer": "ipython3",
   "version": "3.8.8"
  }
 },
 "nbformat": 4,
 "nbformat_minor": 5
}
